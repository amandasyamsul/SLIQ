{
 "cells": [
  {
   "cell_type": "markdown",
   "metadata": {},
   "source": [
    "# Analysis on correlation between earthquakes and surface mass loading in individual mascons"
   ]
  },
  {
   "cell_type": "code",
   "execution_count": 1,
   "metadata": {
    "tags": []
   },
   "outputs": [
    {
     "data": {
      "text/plain": [
       "<module 'loadquakes' from '/Users/amandasyamsul/SLIQ/loadquakes.py'>"
      ]
     },
     "execution_count": 1,
     "metadata": {},
     "output_type": "execute_result"
    }
   ],
   "source": [
    "import xarray as xr\n",
    "import pandas as pd\n",
    "import matplotlib.pyplot as plt\n",
    "import numpy as np\n",
    "# from global_land_mask import globe\n",
    "import scipy.stats as stats\n",
    "import os\n",
    "import importlib\n",
    "import geopandas as gpd\n",
    "from mpl_toolkits.axes_grid1 import make_axes_locatable\n",
    "import matplotlib.cm as cm\n",
    "import numpy.ma as ma\n",
    "from tqdm import tqdm\n",
    "from shapely.geometry import Point, Polygon\n",
    "\n",
    "# file containing functions:\n",
    "import loadquakes\n",
    "importlib.reload(loadquakes)"
   ]
  },
  {
   "cell_type": "markdown",
   "metadata": {},
   "source": [
    "## 1. Load datasets\n",
    "\n",
    "- GRACE and GRACE-FO\n",
    "- USGS earthquake catalog with ETAS probabilities"
   ]
  },
  {
   "cell_type": "code",
   "execution_count": 2,
   "metadata": {
    "tags": []
   },
   "outputs": [],
   "source": [
    "# GRACE data\n",
    "ds = xr.open_dataset(\"GRCTellus.JPL.200204_202201.GLO.RL06M.MSCNv02CRI.nc\")\n",
    "\n",
    "# Catalog of events from 2002-04-16 to 2022-1-16 with magnitude >= 5.4\n",
    "catalog = pd.read_csv('catalog.csv')\n",
    "etas_declustered = pd.read_csv('etas_declustered.csv')"
   ]
  },
  {
   "cell_type": "markdown",
   "metadata": {},
   "source": [
    "## 2.1 Analyze correlation between all events (n=12573) and surface mass loading by mascon"
   ]
  },
  {
   "cell_type": "markdown",
   "metadata": {},
   "source": [
    "###  This method calculates LgE and L using mascons from the JPL mascon placement file"
   ]
  },
  {
   "cell_type": "code",
   "execution_count": 3,
   "metadata": {
    "tags": []
   },
   "outputs": [],
   "source": [
    "'''\n",
    "Calculates conditional probability P(E|L) using loads during earthquakes (LgE) and loads during all time periods (L)\n",
    "\n",
    "'''\n",
    "\n",
    "def get_cp(LgE, L):\n",
    "    cp_list = []  \n",
    "    \n",
    "    bins = np.linspace(-80,80,80)\n",
    "\n",
    "    LgE_hist = np.histogram(LgE, bins=bins, density=True)[0] \n",
    "    L_hist = np.histogram(L, bins=bins, density=True)[0]\n",
    "\n",
    "    cp = np.divide(LgE_hist, L_hist, out=np.zeros_like(LgE_hist), where=L_hist != 0)\n",
    "\n",
    "    return bins, cp  #  list of cps for all mascons that contain earthquakes"
   ]
  },
  {
   "cell_type": "code",
   "execution_count": 4,
   "metadata": {
    "tags": []
   },
   "outputs": [],
   "source": [
    "mascon = xr.open_dataset('JPL_MSCNv03_PLACEMENT.nc')\n",
    "mascon_center_lat = mascon['mascon_lat'].data\n",
    "mascon_center_lon = mascon['mascon_lon'].data\n",
    "mascon_id = mascon['mascon_id'].data\n",
    "\n",
    "lwe_data = ds['lwe_thickness']\n",
    "cap_radius_deg = 1.5  # Spherical cap radius in degrees"
   ]
  },
  {
   "cell_type": "code",
   "execution_count": 28,
   "metadata": {
    "tags": []
   },
   "outputs": [
    {
     "data": {
      "text/plain": [
       "<geopandas.sindex.PyGEOSSTRTreeIndex at 0x3440f68d0>"
      ]
     },
     "execution_count": 28,
     "metadata": {},
     "output_type": "execute_result"
    }
   ],
   "source": [
    "## Full catalog\n",
    "\n",
    "# Convert catalog to GeoDataFrame\n",
    "geometry_full = [Point(xy) for xy in zip(catalog['longitude'], catalog['latitude'])]\n",
    "catalog_gdf_full = gpd.GeoDataFrame(catalog, geometry=geometry_full, crs=\"EPSG:4326\")  # Handle the earthquakes by \"mascon\"\n",
    "\n",
    "# Create spatial index for catalog_gdf to optimize spatial joins\n",
    "catalog_gdf_full.sindex\n",
    "\n",
    "\n",
    "## ETAS declustered catalog\n",
    "\n",
    "# Convert catalog to GeoDataFrame\n",
    "geometry_etas = [Point(xy) for xy in zip(etas_declustered['longitude'], etas_declustered['latitude'])]\n",
    "catalog_gdf_etas = gpd.GeoDataFrame(etas_declustered, geometry=geometry_etas, crs=\"EPSG:4326\")  # Handle the earthquakes by \"mascon\"\n",
    "\n",
    "# Create spatial index for catalog_gdf to optimize spatial joins\n",
    "catalog_gdf_etas.sindex"
   ]
  },
  {
   "cell_type": "code",
   "execution_count": 42,
   "metadata": {
    "tags": []
   },
   "outputs": [],
   "source": [
    "def calc_cp_by_mascon(catalog, geometry, catalog_gdf, L_override):\n",
    "    \"\"\"\n",
    "    Calculates conditional probability P(E|L) in every mascon using each mascon's center coordinates \n",
    "    and creating a 1.5 degree radius spherical cap around each one.\n",
    "    If L_override is provided, it replaces the calculated L.\n",
    "    \"\"\"\n",
    "    cp = []\n",
    "    \n",
    "#     # Convert catalog to GeoDataFrame\n",
    "#     geometry = [Point(xy) for xy in zip(catalog['longitude'], catalog['latitude'])]\n",
    "#     catalog_gdf = gpd.GeoDataFrame(catalog, geometry=geometry, crs=\"EPSG:4326\")  # Handle the earthquakes by \"mascon\"\n",
    "\n",
    "#     # Create spatial index for catalog_gdf to optimize spatial joins\n",
    "#     catalog_gdf.sindex\n",
    "    \n",
    "    # Iterate through each mascon center\n",
    "    # for i in tqdm(range(len(mascon_id)), miniters=500):\n",
    "    for i in range(len(mascon_id)):\n",
    "        # Create a Point for the mascon center\n",
    "        center_point = Point(mascon_center_lon[i], mascon_center_lat[i])\n",
    "\n",
    "        # Define a circular buffer (spherical cap) with a 1.5-degree radius\n",
    "        bbox = center_point.buffer(cap_radius_deg)\n",
    "\n",
    "        # Convert the buffer to a GeoDataFrame for spatial operations\n",
    "        bbox_gdf = gpd.GeoDataFrame([1], geometry=[bbox], crs=\"EPSG:4326\")\n",
    "\n",
    "        # Spatial join to find earthquakes within the spherical cap\n",
    "        these_earthquakes = gpd.sjoin(catalog_gdf, bbox_gdf, how='inner', predicate='within')\n",
    "\n",
    "        # Skip to the next iteration if no earthquakes are found within this cap\n",
    "        if these_earthquakes.empty:\n",
    "            continue\n",
    "\n",
    "        # Retrieve load data for this mascon using the center coordinates\n",
    "        these_loads = lwe_data.sel(lat=mascon_center_lat[i], lon=mascon_center_lon[i], method=\"nearest\").data.flatten()\n",
    "\n",
    "        # Determine the value of L to use\n",
    "        if L_override is not None:\n",
    "            L = L_override  # Use provided L_override\n",
    "        else:\n",
    "            L = these_loads  # Use internally calculated L\n",
    "            \n",
    "        LgE = these_earthquakes.dmass # Load at the time of earthquake (in the spherical cap where the eq is located)\n",
    "        L = these_loads # Load at all times in the spherical cap where eq occurred\n",
    "        E = len(these_earthquakes) # Probability of an earthquake at a given time and location\n",
    "\n",
    "        # Compute P(E|L)\n",
    "        bins, this_cp = get_cp(LgE, L)\n",
    "        this_cp = this_cp * E\n",
    "        cp.append(this_cp)\n",
    "\n",
    "    # Average conditional probabilities across all mascons\n",
    "    cp_averaged = np.nanmean(np.array(cp), axis=0)\n",
    "    \n",
    "    return cp_averaged, bins"
   ]
  },
  {
   "cell_type": "code",
   "execution_count": 43,
   "metadata": {
    "tags": []
   },
   "outputs": [],
   "source": [
    "cp_averaged, bins = calc_cp_by_mascon(catalog, geometry_full, catalog_gdf_full, L_override=None)"
   ]
  },
  {
   "cell_type": "markdown",
   "metadata": {},
   "source": [
    "## 2.2 Analyze correlation between events in declustered catalog (n=537) and surface mass loading by mascon"
   ]
  },
  {
   "cell_type": "code",
   "execution_count": 44,
   "metadata": {
    "tags": []
   },
   "outputs": [],
   "source": [
    "etas_cp_averaged, bins = calc_cp_by_mascon(etas_declustered, geometry_etas, catalog_gdf_etas, L_override=None)"
   ]
  },
  {
   "cell_type": "code",
   "execution_count": 45,
   "metadata": {
    "tags": []
   },
   "outputs": [],
   "source": [
    "# '''\n",
    "# Sanity Check!\n",
    "# '''\n",
    "# base = bbox_gdf.boundary.plot(color='red', linewidth=2)\n",
    "# catalog_gdf.plot(ax=base, marker='o', color='blue', markersize=5, label='All Earthquakes')\n",
    "# # these_earthquakes.plot(ax=base, marker='o', color='red', markersize=5, label='Selected Earthquakes')\n",
    "# plt.xlim([-2,2])\n",
    "# plt.ylim([-88,-92])\n",
    "# plt.legend()\n",
    "# plt.show()"
   ]
  },
  {
   "cell_type": "markdown",
   "metadata": {},
   "source": [
    "## 2.3 Visualizing correlation for full & declustered catalog"
   ]
  },
  {
   "cell_type": "code",
   "execution_count": 46,
   "metadata": {
    "tags": []
   },
   "outputs": [
    {
     "data": {
      "image/png": "[encoded data removed]",
      "text/plain": [
       "<Figure size 1680x480 with 2 Axes>"
      ]
     },
     "metadata": {},
     "output_type": "display_data"
    }
   ],
   "source": [
    "fig, axes = plt.subplots(1,2, figsize=(14, 4), dpi=120)\n",
    "fs = 13\n",
    "\n",
    "### (a) P(E|L) by Mascon (ETAS)\n",
    "wid_etas = np.mean(np.diff(bins))\n",
    "\n",
    "axes[0].bar(bins[:-1], etas_cp_averaged / np.sum(etas_cp_averaged), \n",
    "       width=wid_etas, align='edge')\n",
    "\n",
    "axes[0].set_xlim(bins[0], bins[-2])\n",
    "axes[0].set_xlabel('Surface load (cm-we)', fontsize=fs)\n",
    "axes[0].set_ylabel('Conditional probability', fontsize=fs)\n",
    "axes[0].set_title('(a) Averaged P(E|L) by Mascon (n=537)', fontsize=fs + 2)\n",
    "axes[0].grid(True)\n",
    "\n",
    "### (b) P(E|L) by Mascon (full catalog)\n",
    "axes[1].bar(bins[:-1], cp_averaged / np.sum(cp_averaged), \n",
    "       width=wid_etas, align='edge')\n",
    "\n",
    "axes[1].set_xlim(bins[0], bins[-2])\n",
    "axes[1].set_xlabel('Surface load (cm-we)', fontsize=fs)\n",
    "axes[1].set_ylabel('Conditional probability', fontsize=fs)\n",
    "axes[1].set_title('(a) Averaged P(E|L) by Mascon (n=12573)', fontsize=fs + 2)\n",
    "axes[1].grid(True)"
   ]
  },
  {
   "cell_type": "markdown",
   "metadata": {},
   "source": [
    "## 3.1 Permutation testing"
   ]
  },
  {
   "cell_type": "markdown",
   "metadata": {},
   "source": [
    "### The code below does the following:\n",
    "1. Scramble loads (ds.lwe_thickness) and generate randomized data\n",
    "2. Calculate cp for each randomized load dataset"
   ]
  },
  {
   "cell_type": "code",
   "execution_count": 47,
   "metadata": {
    "tags": []
   },
   "outputs": [],
   "source": [
    "# Number of randomizations\n",
    "N = 5"
   ]
  },
  {
   "cell_type": "code",
   "execution_count": 48,
   "metadata": {
    "tags": []
   },
   "outputs": [
    {
     "name": "stderr",
     "output_type": "stream",
     "text": [
      "100%|████████████████████████████████████████████| 5/5 [12:54<00:00, 154.93s/it]\n"
     ]
    }
   ],
   "source": [
    "# Last run on Jan 31, 2025 -- time taken: ~9.5 hours\n",
    "\n",
    "# Flatten the surface load dataset to scramble\n",
    "all_grace_data = np.array(ds.lwe_thickness).flatten()\n",
    "rng = np.random.default_rng()  # Random number generator\n",
    "\n",
    "cp_real_distribution = []\n",
    "\n",
    "# Scramble and calculate cp for each randomization\n",
    "for i in tqdm(range(N)):\n",
    "    scrambled_data = rng.permutation(all_grace_data)\n",
    "    cp_averaged, bins = calc_cp_by_mascon(catalog, geometry_full, catalog_gdf_full, L_override=scrambled_data)\n",
    "    cp_real_distribution.append(cp_averaged)  # Store as a list of arrays\n",
    "\n",
    "# Convert to NumPy array for proper averaging\n",
    "cp_real_distribution = np.array(cp_real_distribution)  # Shape: (N, num_bins)\n",
    "\n",
    "# Compute final averaged probability distribution\n",
    "cp_real_distribution_avg = np.mean(cp_real_distribution, axis=0)  # Shape: (num_bins,)"
   ]
  },
  {
   "cell_type": "markdown",
   "metadata": {},
   "source": [
    "## 3.2  Repeating analysis for ETAS declustered catalog"
   ]
  },
  {
   "cell_type": "code",
   "execution_count": null,
   "metadata": {
    "tags": []
   },
   "outputs": [
    {
     "name": "stderr",
     "output_type": "stream",
     "text": [
      " 80%|████████████████████████████████████         | 4/5 [02:21<00:32, 32.48s/it]"
     ]
    }
   ],
   "source": [
    "# Last run on Jan 31, 2025 -- time taken: ~6 hours\n",
    "\n",
    "# Flatten the surface load dataset to scramble\n",
    "all_grace_data = np.array(ds.lwe_thickness).flatten()\n",
    "rng = np.random.default_rng()  # Random number generator\n",
    "\n",
    "etas_cp_real_distribution = []\n",
    "\n",
    "# Scramble and calculate cp for each randomization\n",
    "for i in tqdm(range(N)):\n",
    "    scrambled_data = rng.permutation(all_grace_data)\n",
    "    etas_cp_averaged, bins = calc_cp_by_mascon(etas_declustered, geometry_etas, catalog_gdf_etas, L_override=scrambled_data)\n",
    "    etas_cp_real_distribution.append(etas_cp_averaged)  # Store as a list of arrays\n",
    "\n",
    "# Convert to NumPy array for proper averaging\n",
    "etas_cp_real_distribution = np.array(etas_cp_real_distribution)  # Shape: (N, num_bins)\n",
    "\n",
    "# Compute final averaged probability distribution\n",
    "etas_cp_real_distribution_avg = np.mean(etas_cp_real_distribution, axis=0)  # Shape: (num_bins,)"
   ]
  },
  {
   "cell_type": "markdown",
   "metadata": {},
   "source": [
    "## 4. Figures"
   ]
  },
  {
   "cell_type": "code",
   "execution_count": null,
   "metadata": {
    "tags": []
   },
   "outputs": [],
   "source": [
    "fig, axes = plt.subplots(2, 2, figsize=(15, 9), dpi=120)\n",
    "fs = 13\n",
    "\n",
    "### (a) P(E|L) by Mascon (ETAS)\n",
    "ax = axes[0, 0]  \n",
    "wid_etas = np.mean(np.diff(bins))\n",
    "\n",
    "# Use the corrected average instead of raw etas_cp_averaged\n",
    "ax.bar(bins[:-1], etas_cp_real_distribution_avg / np.sum(etas_cp_real_distribution_avg), \n",
    "       width=wid_etas, align='edge')\n",
    "\n",
    "ax.set_xlim(bins[0], bins[-2])\n",
    "ax.set_xlabel('Surface load (cm-we)', fontsize=fs)\n",
    "ax.set_ylabel('Conditional probability', fontsize=fs)\n",
    "ax.set_title('(a) Averaged P(E|L) by Mascon (n=537)', fontsize=fs + 2)\n",
    "ax.grid(True)\n",
    "\n",
    "### (b) Significance test for ETAS declustered catalog\n",
    "ax1 = axes[0, 1]  \n",
    "etas_sorted_data = np.sort(etas_cp_real_distribution_avg)  # Use final averaged version\n",
    "ax1.plot(etas_sorted_data, 1 - np.arange(etas_sorted_data.size) / etas_sorted_data.size)\n",
    "\n",
    "ax1.axhline(y=0.05, color='r', linestyle='--')\n",
    "ax1.set_ylabel('Frequency of Occurrence\\nUnder Random Loading\\n(p-value)', fontsize=fs)\n",
    "ax1.set_xlabel('Probability\\nfrom Random Loading', fontsize=fs)\n",
    "ax1.set_title('(b) Significance Test for ETAS Declustered Catalog (n=537)', fontsize=fs + 2)\n",
    "ax1.grid(True)\n",
    "\n",
    "### (c) P(E|L) by Mascon (Full Catalog)\n",
    "ax3 = axes[1, 0]  \n",
    "wid = np.mean(np.diff(bins))\n",
    "\n",
    "# Use final averaged conditional probability\n",
    "ax3.bar(bins[:-1], cp_real_distribution_avg / np.sum(cp_real_distribution_avg), \n",
    "       width=wid, align='edge')\n",
    "\n",
    "xl = ax3.get_xlim()\n",
    "ax3.set_xlim(xl[0], xl[1] - 4.4)\n",
    "ax3.set_xlabel('Surface load (cm-we)', fontsize=fs)\n",
    "ax3.set_ylabel('Conditional probability', fontsize=fs)\n",
    "ax3.set_title('(c) Averaged P(E|L) by Mascon (n=12573)', fontsize=fs + 2)\n",
    "ax3.grid(True)\n",
    "\n",
    "### (d) Significance test for full catalog\n",
    "ax2 = axes[1, 1]  \n",
    "sorted_data = np.sort(cp_real_distribution_avg)  # Use final averaged version\n",
    "ax2.plot(sorted_data, 1 - np.arange(sorted_data.size) / sorted_data.size)\n",
    "\n",
    "ax2.axhline(y=0.05, color='r', linestyle='--')\n",
    "ax2.set_ylabel('Frequency of Occurrence\\nUnder Random Loading\\n(p-value)', fontsize=fs)\n",
    "ax2.set_xlabel('Probability\\nfrom Random Loading', fontsize=fs)\n",
    "ax2.set_title('(d) Significance Test for Full Catalog (n=12573)', fontsize=fs + 2)\n",
    "ax2.grid(True)\n",
    "\n",
    "plt.tight_layout()\n",
    "plt.show()"
   ]
  },
  {
   "cell_type": "code",
   "execution_count": null,
   "metadata": {},
   "outputs": [],
   "source": []
  }
 ],
 "metadata": {
  "kernelspec": {
   "display_name": "Python 3 (ipykernel)",
   "language": "python",
   "name": "python3"
  },
  "language_info": {
   "codemirror_mode": {
    "name": "ipython",
    "version": 3
   },
   "file_extension": ".py",
   "mimetype": "text/x-python",
   "name": "python",
   "nbconvert_exporter": "python",
   "pygments_lexer": "ipython3",
   "version": "3.11.5"
  }
 },
 "nbformat": 4,
 "nbformat_minor": 4
}
